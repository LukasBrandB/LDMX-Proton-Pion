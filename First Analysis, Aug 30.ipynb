{
 "cells": [
  {
   "cell_type": "code",
   "execution_count": 2,
   "id": "249b7961",
   "metadata": {},
   "outputs": [],
   "source": [
    "from coffea import hist\n",
    "import math\n",
    "import os\n",
    "import psutil\n",
    "import uproot\n",
    "import awkward as ak\n",
    "%matplotlib inline\n",
    "\n",
    "import matplotlib.pyplot as plt\n",
    "import matplotlib.colors as colors\n",
    "import mplhep as hep\n",
    "import numpy as np\n",
    "import random\n",
    "plt.style.use(hep.style.CMS)\n",
    "\n",
    "from matplotlib import colors\n",
    "POPTS={'norm':colors.LogNorm(vmin=1,vmax=200)}"
   ]
  },
  {
   "cell_type": "code",
   "execution_count": 3,
   "id": "44959d2c",
   "metadata": {},
   "outputs": [
    {
     "name": "stdout",
     "output_type": "stream",
     "text": [
      "[[7, 2, 2, 1], [0, 93, 1, 21, 7, ... 276, 79, 74, 76, 90, 97, 121, 187, 41, 12, 4]]\n",
      "[<Array [[False, False, ... False, False]] type='10000 * var * bool'>]\n"
     ]
    }
   ],
   "source": [
    "with uproot.open(\"data/protonpion_sep7/pion_sep7_ntuple/pion_ntuple.root\") as file:\n",
    "    #print(file[\"Events\"].keys())\n",
    "    print(file[\"Events\"][\"Hcal_RecHit_PE\"].array())\n",
    "    print([file[\"Events\"][\"Hcal_RecHit_layer\"].array()==1])\n",
    "    #for attr in file[\"Events\"]"
   ]
  },
  {
   "cell_type": "code",
   "execution_count": 4,
   "id": "92fbd944",
   "metadata": {},
   "outputs": [],
   "source": [
    "SimParticle_attrs = ['pdgID','trkID','mass','e','kine','px','py','pz','endx','endy','endz','vx','vy','vz']\n",
    "EcalRecHit_attrs = ['amp','e','t','x','y','z']\n",
    "EcalInfo_attrs = ['frontmaxSP_e','frontmaxSP_p','backmaxSP_e','backmaxSP_p']\n",
    "HcalRecHit_attrs = ['layer','strip','section','e','x','y','z','PE']\n",
    "HcalInfo_attrs = ['sumPE']\n",
    "\n",
    "branches = {\n",
    "    \"Sim_Particle\": SimParticle_attrs,\n",
    "    \"Ecal_RecHit\": EcalRecHit_attrs,\n",
    "    \"Ecal\": EcalInfo_attrs,\n",
    "    \"Hcal_RecHit\": HcalRecHit_attrs,\n",
    "    \"Hcal\": HcalInfo_attrs,\n",
    "    \"n\": [\"Ecal_RecHit\", \"Hcal_RecHit\"]\n",
    "}\n",
    "\n",
    "def getData(fnames=\"\", treeName=\"Events\", chunks=False):\n",
    "    branchlist = []\n",
    "    for collection, attrs in branches.items():\n",
    "        branchlist += [collection+\"_\"+attr for attr in attrs]\n",
    "    if chunks: ldmx_dict = uproot.iterate(fnames+\":\"+treeName, branchlist)\n",
    "    else: ldmx_dict = uproot.lazy(fnames+\":\"+treeName, branchlist)\n",
    "    return ldmx_dict\n",
    "\n",
    "#Repackages ldmx_dict into new dictionary of dictionaries of form\n",
    "#ldmx_events={Sim_particle: {pdgID:___, trkID:___,...}, Ecal_RecHit: {amp:___, e:___, ...}, ...}\n",
    "def repackage(ldmx_dict):\n",
    "    evt_dict={}\n",
    "    for collection in branches:    \n",
    "        coll_dict={}\n",
    "        for attr in branches[collection]:\n",
    "            bname = \"{}_{}\".format(collection, attr)\n",
    "            coll_dict[attr] = ldmx_dict[bname]\n",
    "        evt_dict[collection] = ak.zip(coll_dict)        \n",
    "    ldmx_events = ak.zip(evt_dict, depth_limit=1)\n",
    "    return ldmx_events\n",
    "\n",
    "\n",
    "def flat(x,axis=None): # for now must cast while waiting for coffea to catch up\n",
    "    try:\n",
    "        return ak.to_numpy(ak.flatten(x,axis=axis)) \n",
    "    except:\n",
    "        return x\n",
    "\n",
    "\n",
    "#---------------------------------- Histogram Functions---------------------------------------------------\n",
    "Bins={\"Sim_Particle\": \n",
    "        {'pdgID':[50, 200, 2240], 'trkID':[50, 0, 300], 'mass':[20, 930, 940], 'e':[50, 500, 3500],\n",
    "         'kine':[50, 0, 2300], 'px':[50, 0, 1000], 'py':[50, 0, 1000], 'pz':[50, 0, 3000],\n",
    "         'endx':[50, 0, 500],'endy':[50, 0, 500], 'endz':[50, 0, 2700], 'vx':[50, 0, 500],\n",
    "         'vy':[50, 0, 500], 'vz':[50, 0, 2500]},\n",
    "    \n",
    "      \"Ecal_RecHit\": \n",
    "        {'amp':[50, 0, 6], 'e':[50, 0, 500], 't':[20, 0, 1], \n",
    "         'x':[50, 0, 250], 'y':[50, 0, 260], 'z':[50, 200, 700]},\n",
    "      \n",
    "      \"Ecal\": \n",
    "        {'frontmaxSP_e':[50, 2930, 2950], 'frontmaxSP_p':[20, 0, 15], \n",
    "         'backmaxSP_e':[50, 0, 2600], 'backmaxSP_p':[50, 0, 300]},\n",
    "      \n",
    "      \"Hcal_RecHit\":\n",
    "        {'layer':[50, 0, 100], 'strip':[31, 0, 62], 'section':[5, 0, 5], 'e':[50, 0, 30],\n",
    "         'x':[50, 0, 1600], 'y':[50, 0, 1600], 'z':[50, 0, 4000], 'PE':[50, 0, 400]},\n",
    "      \n",
    "      \"Hcal\":\n",
    "        {'sumPE':[50, 0, 3000]},\n",
    "      \n",
    "      \"n\":\n",
    "        {'Ecal_RecHit':[20, 0, 90], 'Hcal_RecHit':[20, 0, 65]}\n",
    "     }\n",
    "\n",
    "Labels={\"Sim_Particle\": \n",
    "        {'pdgID':'pdgID', 'trkID':'trkID', 'mass':\"Mass [MeV]\", 'e':\"Energy [MeV]\",\n",
    "         'kine':\"Kinetic Energy [MeV]\", 'px':r\"$p_x$ [MeV]\", 'py':r\"$p_y$ [MeV]\", 'pz':r\"$p_z$ [MeV]\",\n",
    "         'endx':r\"$End_x$ [mm]\",'endy':r\"$End_y$ [mm]\", 'endz':r\"$End_z$ [mm]\", 'vx':r\"$v_x$ [mm]\",\n",
    "         'vy':r\"$v_y$ [mm]\", 'vz':r\"$v_z$ [mm]\"},\n",
    "    \n",
    "      \"Ecal_RecHit\": \n",
    "        {'amp':\"Amplitude [mA]\", 'e':\"Energy [MeV]\", 't':\"Time [s]           \", \n",
    "         'x': \"x [mm]\", 'y':\"y [mm]\", 'z':\"z [mm]\"},\n",
    "      \n",
    "      \"Ecal\": \n",
    "        {'frontmaxSP_e':\"Front Scoring Plane Energy [MeV]\", 'frontmaxSP_p':\"Front Scoring Plane p [MeV]\", \n",
    "         'backmaxSP_e':\"Back Scoring Plane Energy [MeV]\", 'backmaxSP_p':\"Back Scoring Plane p [MeV]\"},\n",
    "      \n",
    "      \"Hcal_RecHit\":\n",
    "        {'layer':'layer', 'strip':'strip', 'section':'section', 'e':\"Energy [MeV]\",\n",
    "         'x':\"x [mm]\", 'y':\"y [mm]\", 'z':\"z [mm]\", 'PE':'Photo Electrons'},\n",
    "      \n",
    "      \"Hcal\":\n",
    "        {'sumPE':'sumPE'},\n",
    "        \n",
    "      \"n\":\n",
    "        {'Ecal_RecHit':(\"Number of Hits in Event\", \"Ecal_RecHit\"), 'Hcal_RecHit':(\"Number of Hits in Event\", \"Hcal_RecHit\")} \n",
    "         }\n",
    "\n",
    "\n",
    "\n",
    "#Makes Dictionary of hist.Hist objects in same layout as ldmx_events, where each attr. becomes a key.\n",
    "#AttrDict must be a dictionary. Bin layout is determined by Bins 3d array, which is indexed with BinAttr\n",
    "#and BinKey. Preferably this will be mapped out so that individual histograms may be additioned to attr.\n",
    "#keys. and/or separate binning may be provided. Categorical binnings? for now. \n",
    "def MakeHists(AttrDict, Bins):\n",
    "    hists={}\n",
    "    for coll in AttrDict.keys():\n",
    "        attrHists={}\n",
    "        for attr in AttrDict[coll]:\n",
    "            attrHists[attr]=hist.Hist(coll, \n",
    "                    axes=(\n",
    "                    hist.Cat(\"particle\", \"Particle\"),\n",
    "                    hist.Bin(\"e\", attr, *(Bins[coll][attr]))\n",
    "                    ))\n",
    "            \n",
    "        hists[coll]=attrHists\n",
    "    return hists\n",
    "\n",
    "#def FillHists"
   ]
  },
  {
   "cell_type": "code",
   "execution_count": 5,
   "id": "d1403dfa",
   "metadata": {},
   "outputs": [],
   "source": [
    "hists=MakeHists(branches, Bins)\n",
    "\n",
    "sumEStrip=np.zeros(62)\n",
    "layerMaxPE=np.zeros(100)\n",
    "\n",
    "\n",
    "#----------------------Sum of Energies\n",
    "SumEStrip=hist.Hist(\"Sum of Energy in Strip\", axes=(\n",
    "                            hist.Cat(\"particle\", \"Particle\"),\n",
    "                            hist.Bin(\"e\", \"Sum of Energy\", 62, 0, 51000),\n",
    "                            hist.Bin(\"s\", \"Strip\", 62, 0, 62)))\n",
    "\n",
    "EventSumEStrip=hist.Hist(\"Events\", axes=(\n",
    "                            hist.Cat(\"particle\", \"Particle\"),\n",
    "                            hist.Bin(\"e\", \"Sum of Energy\", 62, 0.001, 5),\n",
    "                            hist.Bin(\"s\", \"Strip\", 62, 0, 62)))\n",
    "\n",
    "#----------------------Photo Electrons\n",
    "MaxPELayer=hist.Hist(\"Max PE of Layer\", axes=(\n",
    "                            hist.Cat(\"particle\", \"Particle\"),\n",
    "                            hist.Bin(\"e\", \"Max PE\", 50, 0, 500),\n",
    "                            hist.Bin(\"s\", \"Layer\",100, 0, 100)))\n",
    "\n",
    "EventMaxPELayer=hist.Hist(\"Events\", axes=(\n",
    "                            hist.Cat(\"particle\", \"Particle\"),\n",
    "                            hist.Bin(\"e\", \"Max PE\", 50, 0.001, 100),\n",
    "                            hist.Bin(\"s\", \"Layer\",40, 0, 40)))\n",
    "\n",
    "#---------------------Ecal Measurements\n",
    "MaxSingleCellE=hist.Hist(\"Highest Single Cell Energy\", axes=(\n",
    "                            hist.Cat(\"particle\", \"Particle\"),\n",
    "                            hist.Bin(\"e\", \"Highest Single RecHit\", 100, 0, 2500)))\n",
    "\n",
    "EcalTotalE=hist.Hist(\"Total Ecal Energy\", axes=(\n",
    "                            hist.Cat(\"particle\", \"Particle\"),\n",
    "                            hist.Bin(\"e\", \"Total Energy Deposited in Ecal\", 50, 0, 10000)))"
   ]
  },
  {
   "cell_type": "code",
   "execution_count": 6,
   "id": "0efdd86a",
   "metadata": {},
   "outputs": [],
   "source": [
    "def ProcessChunk(chunk, hists):\n",
    "    ldmx_events = repackage(chunk)\n",
    "    \n",
    "    sim_particle = ldmx_events['Sim_Particle']\n",
    "    ecal_rechit = ldmx_events['Ecal_RecHit']\n",
    "    ecal= ldmx_events['Ecal']\n",
    "    hcal_rechit= ldmx_events['Hcal_RecHit']\n",
    "    hcal= ldmx_events['Hcal']\n",
    "    \n",
    "    #print(ak.to_layout(sim_particle))\n",
    "    #print(hcal_rechit.PE[hcal_rechit.layer==7])\n",
    "#--------------------------------------- DATA MASKS --------------------------------------------\n",
    "    \n",
    "    #Determines if data file is one for protons or pions\n",
    "    par=\"\"\n",
    "    if ak.all(sim_particle.pdgID==2212):\n",
    "        par=\"Proton\"\n",
    "    elif ak.all(sim_particle.pdgID==211):\n",
    "        par=\"Pion\"\n",
    "#------------------\n",
    "\n",
    "    #Sum of energy in each strip over all events\n",
    "    for i in range(1,63):\n",
    "        sumEStrip[i-1]=ak.sum(hcal_rechit.e[hcal_rechit.strip==i])\n",
    "     \n",
    "    #Max PE in each Layer over all events\n",
    "    for i in range(1,100):  \n",
    "        layerMaxPE[i-1]=ak.max(hcal_rechit.PE[hcal_rechit.layer==i])\n",
    "#------------------    \n",
    "    \n",
    "    #Sum of energy in each strip per event\n",
    "    for i in range(1,63):\n",
    "        eventSums=ak.sum(hcal_rechit.e[hcal_rechit.strip==i], axis=1)\n",
    "        EventSumEStrip.fill(particle=par, e=eventSums, s=i)\n",
    "     \n",
    "    #Max PE in each Layer per event\n",
    "    for i in range(1,100):  \n",
    "        eventMax=ak.flatten(ak.max(hcal_rechit.PE[hcal_rechit.layer==i], axis=1), axis=0)\n",
    "        EventMaxPELayer.fill(particle=par, e=eventMax, s=i)\n",
    "            \n",
    "#------------------\n",
    "\n",
    "    #Ecal total energy Deposited\n",
    "    ecalTotalE=ak.sum(ecal_rechit.e, axis=-1)\n",
    "    \n",
    "    #Highest single cell energy\n",
    "    maxSingleCellE=ak.max(ecal_rechit.e, axis=-1)\n",
    "    \n",
    "    #for i in range(0,len(maxSingleCellE)):\n",
    "     #   print(maxSingleCellE[i], ecal_rechit.e[i])\n",
    "    #print(ak.flatten(ak.sum(hcal_rechit.e[hcal_rechit.strip==1], axis=1), axis=0))\n",
    "    #print(ak.flatten(ak.max(hcal_rechit.PE[hcal_rechit.strip==1], axis=1), axis=0))\n",
    "#--------------------------------------- HISTOGRAM FILLING -------------------------------------\n",
    "\n",
    "    for coll in ldmx_events.fields:\n",
    "        for f in ldmx_events[coll].fields:\n",
    "            hists[coll][f].fill(particle=par, e= flat(getattr(ldmx_events[coll], f)))\n",
    "       \n",
    "    #SumEStrip, MaxPELayer\n",
    "    layers=np.arange(1,101)\n",
    "    strips=np.arange(1,63)\n",
    "    \n",
    "    SumEStrip.fill(particle=par, e=sumEStrip, s=strips)\n",
    "    MaxPELayer.fill(particle=par, e=layerMaxPE, s=layers)\n",
    "    \n",
    "    #EcalTotalEnergy, MaxSingleCellE\n",
    "    MaxSingleCellE.fill(particle=par, e=maxSingleCellE)\n",
    "    EcalTotalE.fill(particle=par, e=ecalTotalE)\n",
    "    "
   ]
  },
  {
   "cell_type": "code",
   "execution_count": 7,
   "id": "0fca3b90",
   "metadata": {
    "scrolled": true
   },
   "outputs": [
    {
     "name": "stdout",
     "output_type": "stream",
     "text": [
      "process 1\n",
      "process 2\n"
     ]
    }
   ],
   "source": [
    "ldmx_dict_all = getData(chunks=True, fnames=\"data/protonpion_sep7/*/*.root\")\n",
    "\n",
    "nchunk = 0\n",
    "for chunk in ldmx_dict_all:\n",
    "    nchunk += 1\n",
    "    print('process',nchunk)\n",
    "    ProcessChunk(chunk, hists)"
   ]
  },
  {
   "cell_type": "code",
   "execution_count": 8,
   "id": "2cd50501",
   "metadata": {
    "scrolled": false
   },
   "outputs": [
    {
     "data": {
      "application/vnd.jupyter.widget-view+json": {
       "model_id": "2ba63fe0543b43639a73e45dcb142ff8",
       "version_major": 2,
       "version_minor": 0
      },
      "text/plain": [
       "Canvas(toolbar=Toolbar(toolitems=[('Home', 'Reset original view', 'home', 'home'), ('Back', 'Back to previous …"
      ]
     },
     "metadata": {},
     "output_type": "display_data"
    },
    {
     "data": {
      "application/vnd.jupyter.widget-view+json": {
       "model_id": "0485b887088d46079a670fc78856eaf5",
       "version_major": 2,
       "version_minor": 0
      },
      "text/plain": [
       "interactive(children=(Dropdown(description='attr', options=('Sim_Particle-pdgID', 'Sim_Particle-trkID', 'Sim_P…"
      ]
     },
     "metadata": {},
     "output_type": "display_data"
    },
    {
     "data": {
      "application/vnd.jupyter.widget-view+json": {
       "model_id": "9e202abda7bf40bf8eb6e7883621345e",
       "version_major": 2,
       "version_minor": 0
      },
      "text/plain": [
       "Canvas(toolbar=Toolbar(toolitems=[('Home', 'Reset original view', 'home', 'home'), ('Back', 'Back to previous …"
      ]
     },
     "metadata": {},
     "output_type": "display_data"
    },
    {
     "data": {
      "application/vnd.jupyter.widget-view+json": {
       "model_id": "fa53c094b7d64e68bbc9ce0f5a4c2ec2",
       "version_major": 2,
       "version_minor": 0
      },
      "text/plain": [
       "Canvas(toolbar=Toolbar(toolitems=[('Home', 'Reset original view', 'home', 'home'), ('Back', 'Back to previous …"
      ]
     },
     "metadata": {},
     "output_type": "display_data"
    },
    {
     "data": {
      "application/vnd.jupyter.widget-view+json": {
       "model_id": "a0354138e3b14037bec075f256f5015a",
       "version_major": 2,
       "version_minor": 0
      },
      "text/plain": [
       "Canvas(toolbar=Toolbar(toolitems=[('Home', 'Reset original view', 'home', 'home'), ('Back', 'Back to previous …"
      ]
     },
     "metadata": {},
     "output_type": "display_data"
    },
    {
     "data": {
      "text/plain": [
       "'\\nfig, ax3=plt.subplots(nrows=2, figsize=(10,20))\\nhist.plot1d(SumEStrip.sum(\"s\"), ax=ax3[0], clear=False, overlay=\"particle\")\\nhist.plot1d(MaxPELayer.sum(\"s\"), ax=ax3[1], clear=False, overlay=\"particle\")\\nax3[0].set_xlabel(\"Sum of Energy [MeV]\")\\nax3[0].set_ylabel(\"Hcal Strip\")\\nax3[1].set_xlabel(\"Max # Photo Electrons\")\\nax3[1].set_ylabel(\"Layers\")\\n'"
      ]
     },
     "execution_count": 8,
     "metadata": {},
     "output_type": "execute_result"
    }
   ],
   "source": [
    "import ipywidgets as widgets\n",
    "%matplotlib widget\n",
    "\n",
    "'''\n",
    "i=0\n",
    "for coll in hists.keys():\n",
    "    for key in hists[coll]:\n",
    "        if i%2==0:\n",
    "            fig, ax=plt.subplots(ncols=2, figsize=(22,10))\n",
    "        hist.plot1d(hists[coll][key], ax=ax[i%2], clear=False, overlay=\"particle\")\n",
    "        \n",
    "        if (type(Labels[coll][key])==tuple):\n",
    "            ax[i%2].set_xlabel(Labels[coll][key][0])\n",
    "            ax[i%2].set_ylabel(Labels[coll][key][1])\n",
    "        else:\n",
    "            ax[i%2].set_xlabel(Labels[coll][key])\n",
    "            \n",
    "        i+=1\n",
    "\n",
    "'''\n",
    "widlist=[[coll+\"-\"+attr for attr in branches[coll]] for coll in branches.keys()]\n",
    "WidList=np.array([])\n",
    "for i in widlist:\n",
    "    WidList=np.append(WidList, i)\n",
    "\n",
    "\n",
    "fig, axW=plt.subplots(figsize=(10,10))\n",
    "def plott(attr, compare=True):\n",
    "    coll=attr[:attr.find(\"-\")]\n",
    "    key=attr[attr.find(\"-\")+1:]\n",
    "    hist.plot1d(hists[coll][key], ax=axW, overlay=\"particle\", clear=compare)#, legend_opts={'labels':[attr]})\n",
    "    \n",
    "    if (type(Labels[coll][key])==tuple):\n",
    "        axW.set_xlabel(Labels[coll][key][0])\n",
    "        axW.set_ylabel(Labels[coll][key][1])\n",
    "    else:\n",
    "        axW.set_xlabel(Labels[coll][key])\n",
    "    #plt.close()\n",
    "    #display(fig)\n",
    "   \n",
    "    \n",
    "_=widgets.interact(plott, attr=WidList, compare=[(\"True\",0),(\"False\",1)])\n",
    "\n",
    "\n",
    "\n",
    "fig, ax1=plt.subplots(nrows=2, figsize=(12,20))\n",
    "hist.plot2d(EventSumEStrip[\"Proton\"].sum(\"particle\"), \"s\", ax=ax1[0], clear=True)\n",
    "hist.plot2d(EventSumEStrip[\"Pion\"].sum(\"particle\"), \"s\", ax=ax1[1], clear=True)\n",
    "ax1[0].set_xlabel(\"Hcal Strip\")\n",
    "ax1[0].set_ylabel(\"Sum of Energy [MeV]\")\n",
    "ax1[1].set_xlabel(\"Hcal Strip\")\n",
    "ax1[1].set_ylabel(\"Sum of Energy [MeV]\")\n",
    "ax1[0].set_title(\"Proton\")\n",
    "ax1[1].set_title(\"Pion\")\n",
    "\n",
    "fig, ax2=plt.subplots(nrows=2, figsize=(12,20))\n",
    "hist.plot2d(EventMaxPELayer[\"Proton\"].sum(\"particle\"), \"s\", ax=ax2[0], clear=True)\n",
    "hist.plot2d(EventMaxPELayer[\"Pion\"].sum(\"particle\"), \"s\", ax=ax2[1], clear=True)\n",
    "ax2[0].set_xlabel(\"Hcal Layer\")\n",
    "ax2[0].set_ylabel(\"Max # Photo Electrons\")\n",
    "ax2[1].set_xlabel(\"Hcal Layer\")\n",
    "ax2[1].set_ylabel(\"Max # Photo Electrons\")\n",
    "ax2[0].set_title(\"Proton\")\n",
    "ax2[1].set_title(\"Pion\")\n",
    "\n",
    "fig, ax3=plt.subplots(nrows=2, figsize=(10,20))\n",
    "hist.plot1d(MaxSingleCellE, ax=ax3[0], clear=False, overlay=\"particle\")\n",
    "hist.plot1d(EcalTotalE, ax=ax3[1], clear=False, overlay=\"particle\")\n",
    "ax3[0].set_xlabel(\"Highest Single Cell Energy in Ecal [MeV]\")\n",
    "ax3[0].set_ylabel(\"Events\")\n",
    "ax3[1].set_xlabel(\"Total Energy in Ecal [MeV] \")\n",
    "ax3[1].set_ylabel(\"Events\")\n",
    "\n",
    "\"\"\"\n",
    "fig, ax3=plt.subplots(nrows=2, figsize=(10,20))\n",
    "hist.plot1d(SumEStrip.sum(\"s\"), ax=ax3[0], clear=False, overlay=\"particle\")\n",
    "hist.plot1d(MaxPELayer.sum(\"s\"), ax=ax3[1], clear=False, overlay=\"particle\")\n",
    "ax3[0].set_xlabel(\"Sum of Energy [MeV]\")\n",
    "ax3[0].set_ylabel(\"Hcal Strip\")\n",
    "ax3[1].set_xlabel(\"Max # Photo Electrons\")\n",
    "ax3[1].set_ylabel(\"Layers\")\n",
    "\"\"\"\n"
   ]
  },
  {
   "cell_type": "code",
   "execution_count": null,
   "id": "4194f532",
   "metadata": {},
   "outputs": [],
   "source": []
  },
  {
   "cell_type": "code",
   "execution_count": null,
   "id": "22140ea1",
   "metadata": {},
   "outputs": [],
   "source": []
  },
  {
   "cell_type": "code",
   "execution_count": null,
   "id": "45e84103",
   "metadata": {},
   "outputs": [],
   "source": []
  }
 ],
 "metadata": {
  "kernelspec": {
   "display_name": "Python 3 (ipykernel)",
   "language": "python",
   "name": "python3"
  },
  "language_info": {
   "codemirror_mode": {
    "name": "ipython",
    "version": 3
   },
   "file_extension": ".py",
   "mimetype": "text/x-python",
   "name": "python",
   "nbconvert_exporter": "python",
   "pygments_lexer": "ipython3",
   "version": "3.8.10"
  }
 },
 "nbformat": 4,
 "nbformat_minor": 5
}
